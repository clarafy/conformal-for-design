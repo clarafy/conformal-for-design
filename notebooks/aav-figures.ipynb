{
 "cells": [
  {
   "cell_type": "markdown",
   "metadata": {},
   "source": [
    "This notebook reproduces plotting Fig. 5."
   ]
  },
  {
   "cell_type": "code",
   "execution_count": 1,
   "metadata": {},
   "outputs": [],
   "source": [
    "import time    \n",
    "import numpy as np\n",
    "\n",
    "import matplotlib.pyplot as plt\n",
    "import matplotlib.gridspec as gridspec\n",
    "plt.rcParams[\"font.size\"] = 8\n",
    "\n",
    "import seaborn as sns\n",
    "sns.set_style('whitegrid', {'grid.color': '0.9'})"
   ]
  },
  {
   "cell_type": "code",
   "execution_count": 2,
   "metadata": {},
   "outputs": [],
   "source": [
    "# load lambdas and mean predicted fitnesses of test sequence distributions\n",
    "d = np.load('../aav/models/constrained_maxent_parameters.npz')\n",
    "\n",
    "# note that lambda in bioRxiv above corresponds to 1 / lambda for us\n",
    "lambda_l = (1 / d['temperature_l']).astype(int)\n",
    "meanpredfit_l = d['meanpredfit_l']"
   ]
  },
  {
   "cell_type": "code",
   "execution_count": 3,
   "metadata": {},
   "outputs": [],
   "source": [
    "# load coverage and sizes of randomized staircase confidence sets (constructed in aav-experiments.ipynb)\n",
    "fname = '../aav/randomized-staircase-results.npz'\n",
    "d = np.load(fname, allow_pickle='True')\n",
    "cov_lxt = d['cov_lxt'].item()\n",
    "avglen_lxt = d['avglen_lxt']\n",
    "fracinf_lxt = d['fracinf_lxt']\n",
    "len_lxt = d['len_lxt'].item()\n",
    "fit_lxt = d['fit_lxt'].item()"
   ]
  },
  {
   "cell_type": "code",
   "execution_count": 4,
   "metadata": {},
   "outputs": [],
   "source": [
    "# compute mean empirical coverage and mean true fitness per lambda\n",
    "n_lambda, n_trial = lambda_l.size, 500 \n",
    "cov_l = np.zeros([n_lambda])\n",
    "truefit_l = np.zeros([n_lambda])\n",
    "for l in range(n_lambda):\n",
    "        cov_l[l] = np.mean([np.mean(cov_lxt[(l, t)]) for t in range(n_trial)])\n",
    "        truefit_l[l] = np.mean([np.mean(fit_lxt[(l, t)]) for t in range(n_trial)])"
   ]
  },
  {
   "cell_type": "code",
   "execution_count": 67,
   "metadata": {},
   "outputs": [
    {
     "data": {
      "image/png": "[encoded data removed]",
      "text/plain": [
       "<Figure size 504x115.2 with 5 Axes>"
      ]
     },
     "metadata": {},
     "output_type": "display_data"
    }
   ],
   "source": [
    "# plot Fig. 5\n",
    "save_fig = True\n",
    "fname = '../figures/060822/fig5-aav.pdf'\n",
    "cmain = 'slategray'\n",
    "\n",
    "# single-column width: 3.42 inches or 8.7 cm\n",
    "# double-column width: 7 inches or 17.8 cm\n",
    "# maximum height: 8.85 inches or 22.5 cm\n",
    "# small: approx 9 cm x 6 cm (3.54 x 2.36 in)\n",
    "# medium: approx 11 cm x 11 cm (4.33 in)\n",
    "# large: approx 18 cm x 22 cm (7 x 8.66 in)\n",
    "fig = plt.figure(figsize=(7, 1.6))\n",
    "gs1 = gridspec.GridSpec(1, 3, figure=fig, wspace=0.65)\n",
    "gs2 = gridspec.GridSpecFromSubplotSpec(2, 1, subplot_spec=gs1[1], hspace=0.2)\n",
    "ax1 = plt.subplot(gs1[0])\n",
    "ax21 = plt.subplot(gs2[0])\n",
    "ax22 = plt.subplot(gs2[1])\n",
    "ax3 = plt.subplot(gs1[2])\n",
    "\n",
    "# ===== true fitness =====\n",
    "\n",
    "nnkmeanfitness = -0.7716402509409155\n",
    "ax1.plot(lambda_l, truefit_l, '-ob', linewidth=2, markersize=4, alpha=0.8, c=cmain, label='__nolegend__');\n",
    "ax1.axhline(nnkmeanfitness, linestyle=\"--\", alpha=0.8,\n",
    "            color='k', label=r'training distribution')\n",
    "ax1.set_xticks(lambda_l);\n",
    "ax1.set_xticklabels(lambda_l);\n",
    "ax1.set_ylabel('mean true fitness')\n",
    "ax1.set_xlabel(r'inverse temperature ($\\lambda$)')\n",
    "ax1.legend(fontsize=6, loc=(0.05, 0.1));\n",
    "ax1.set_title('(a)')\n",
    "\n",
    "# ===== coverage =====\n",
    "\n",
    "ax21.plot(lambda_l, cov_l, '-o', linewidth=2, markersize=4,  alpha=0.8, c=cmain, label='__nolegend__');\n",
    "ax21.set_ylabel('emp. cov.');\n",
    "ax21.set_xticklabels([])\n",
    "ax21.set_ylim([0.85, 1]);\n",
    "ax21.set_yticks([0.85, 0.9, 0.95, 1])\n",
    "ax21.set_xticks(lambda_l);\n",
    "ax21.axhline(0.9, linestyle='--', alpha=0.8, c='k', label=r'$1 - \\alpha$');\n",
    "ax21.legend(fontsize=6)\n",
    "ax21.set_title('(b)')\n",
    "\n",
    "# ===== confidence set sizes =====\n",
    "fmax = 8.798749497001769\n",
    "fmin = -7.530085215864544\n",
    "frange = fmax - fmin\n",
    "\n",
    "navglen_lxt = avglen_lxt / frange  # report average size as fraction of total range of fitness values\n",
    "navglen_l = np.nanmean(navglen_lxt, axis=1)\n",
    "ax22.plot(lambda_l, navglen_l, '-o', linewidth=2, markersize=4, alpha=0.8, c=cmain);\n",
    "ax22.set_ylabel('mean size');\n",
    "ax22.set_xticks(lambda_l);\n",
    "ax22.set_xticklabels(lambda_l);\n",
    "ax22.set_xlabel(r'inverse temperature ($\\lambda$)')\n",
    "\n",
    "# fraction of confidence sets with infinite size\n",
    "ax22inf = ax22.twinx()\n",
    "ax22inf.plot(lambda_l, np.mean(fracinf_lxt, axis=1), '--o', dashes=(1, 0.5),  linewidth=2, markersize=4, alpha=0.8, c=cmain);\n",
    "ax22inf.set_ylabel('  frac. inf.', fontsize=5.5, rotation=270, labelpad=-5);\n",
    "ax22inf.set_yticks([0, 0.16]);\n",
    "\n",
    "\n",
    "# ===== trade-off with certainty =====\n",
    "\n",
    "nnkmeanpredfit = -0.4723137617111206  # computed in aav-experiments\n",
    "ax3.plot(meanpredfit_l, navglen_l, '-o',  linewidth=2, markersize=4, alpha=0.8, c=cmain);\n",
    "ax3.set_xlabel('mean predicted fitness');\n",
    "ax3.set_ylabel('mean conf. set size', labelpad=-0.1);\n",
    "ax3.set_title('(c)');\n",
    "ax3.axvline(nnkmeanpredfit, linestyle=\"--\", alpha=0.8, color='k', label='training distribution')\n",
    "ax3.legend(fontsize=6, loc=(0.1, 0.78));\n",
    "\n",
    "xoff = [-0.15, 0.06, -0.18, 0.08, 0.08, -0.4, -0.4]\n",
    "yoff = [0.002, -0.003, 0.004, 0, 0, -0.001, -0.001]\n",
    "for l, lmbda in enumerate(lambda_l):\n",
    "    ax3.annotate(r'$\\lambda = {}$'.format(lmbda),\n",
    "                 (meanpredfit_l[l] + xoff[l], navglen_l[l] + yoff[l]), fontsize=6)\n",
    "\n",
    "if save_fig:\n",
    "    plt.savefig(fname, dpi=300, bbox_inches='tight')"
   ]
  }
 ],
 "metadata": {
  "kernelspec": {
   "display_name": "TensorFlow-GPU-2.1.0",
   "language": "python",
   "name": "tf-gpu"
  },
  "language_info": {
   "codemirror_mode": {
    "name": "ipython",
    "version": 3
   },
   "file_extension": ".py",
   "mimetype": "text/x-python",
   "name": "python",
   "nbconvert_exporter": "python",
   "pygments_lexer": "ipython3",
   "version": "3.7.7"
  }
 },
 "nbformat": 4,
 "nbformat_minor": 4
}
