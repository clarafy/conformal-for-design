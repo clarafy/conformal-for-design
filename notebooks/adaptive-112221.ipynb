{
 "cells": [
  {
   "cell_type": "code",
   "execution_count": 1,
   "metadata": {},
   "outputs": [],
   "source": [
    "import os\n",
    "import sys\n",
    "import time\n",
    "import csv\n",
    "from importlib import reload\n",
    "module_path = os.path.abspath(os.path.join('..'))\n",
    "if module_path not in sys.path:\n",
    "    sys.path.append(module_path)\n",
    "    \n",
    "import assay\n",
    "import util\n",
    "import calibrate as cal\n",
    "\n",
    "from sklearn.linear_model import Ridge, RidgeCV, LinearRegression\n",
    "    \n",
    "import numpy as np\n",
    "import scipy as sc\n",
    "import pandas as pd \n",
    "\n",
    "import matplotlib.pyplot as plt\n",
    "import matplotlib as mpl\n",
    "plt.rcParams[\"font.size\"] = 16\n",
    "\n",
    "import seaborn as sns\n",
    "sns.set_style('darkgrid')"
   ]
  },
  {
   "cell_type": "code",
   "execution_count": 2,
   "metadata": {
    "scrolled": true
   },
   "outputs": [
    {
     "name": "stdout",
     "output_type": "stream",
     "text": [
      "92 features\n",
      "Loading estimated noise SE precomputed with order 7 and significance level 0.01\n",
      "red, 384, 6. 200 trials. CS IS, LOO coverage: 0.8850, 0.8950. CI IS, LOO coverage: 0.8750, 0.8800. 2739.9 s\n",
      "red, 384, 6. 400 trials. CS IS, LOO coverage: 0.8925, 0.9025. CI IS, LOO coverage: 0.8850, 0.8850. 5327.4 s\n",
      "red, 384, 6. 600 trials. CS IS, LOO coverage: 0.9117, 0.9183. CI IS, LOO coverage: 0.9050, 0.9050. 7823.6 s\n",
      "red, 384, 6. 800 trials. CS IS, LOO coverage: 0.9175, 0.9237. CI IS, LOO coverage: 0.9100, 0.9113. 10313.9 s\n",
      "red, 384, 6. 1000 trials. CS IS, LOO coverage: 0.9120, 0.9210. CI IS, LOO coverage: 0.9050, 0.9090. 12811.8 s\n",
      "red, 384, 6. 1200 trials. CS IS, LOO coverage: 0.9158, 0.9233. CI IS, LOO coverage: 0.9083, 0.9125. 15349.2 s\n",
      "red, 384, 6. 1400 trials. CS IS, LOO coverage: 0.9157, 0.9229. CI IS, LOO coverage: 0.9064, 0.9121. 17934.0 s\n",
      "red, 384, 6. 1600 trials. CS IS, LOO coverage: 0.9213, 0.9263. CI IS, LOO coverage: 0.9119, 0.9163. 20423.0 s\n",
      "red, 384, 6. 1800 trials. CS IS, LOO coverage: 0.9200, 0.9250. CI IS, LOO coverage: 0.9111, 0.9133. 22911.6 s\n",
      "red, 384, 6. 2000 trials. CS IS, LOO coverage: 0.9190, 0.9240. CI IS, LOO coverage: 0.9095, 0.9115. 25387.1 s\n",
      "red, 384, 6. 2200 trials. CS IS, LOO coverage: 0.9227, 0.9259. CI IS, LOO coverage: 0.9123, 0.9136. 27861.4 s\n",
      "red, 384, 6. 2400 trials. CS IS, LOO coverage: 0.9242, 0.9275. CI IS, LOO coverage: 0.9137, 0.9146. 30356.0 s\n",
      "red, 384, 6. 2600 trials. CS IS, LOO coverage: 0.9219, 0.9265. CI IS, LOO coverage: 0.9092, 0.9100. 32861.9 s\n",
      "red, 384, 6. 2800 trials. CS IS, LOO coverage: 0.9250, 0.9293. CI IS, LOO coverage: 0.9118, 0.9129. 35376.2 s\n",
      "red, 384, 6. 3000 trials. CS IS, LOO coverage: 0.9233, 0.9273. CI IS, LOO coverage: 0.9103, 0.9117. 37877.9 s\n",
      "red, 384, 6. 3200 trials. CS IS, LOO coverage: 0.9241, 0.9284. CI IS, LOO coverage: 0.9116, 0.9134. 40362.4 s\n",
      "red, 384, 6. 3400 trials. CS IS, LOO coverage: 0.9238, 0.9279. CI IS, LOO coverage: 0.9115, 0.9124. 42888.3 s\n",
      "red, 384, 6. 3600 trials. CS IS, LOO coverage: 0.9244, 0.9281. CI IS, LOO coverage: 0.9125, 0.9131. 45469.0 s\n",
      "red, 384, 6. 3800 trials. CS IS, LOO coverage: 0.9242, 0.9276. CI IS, LOO coverage: 0.9121, 0.9121. 47964.6 s\n",
      "red, 384, 6. 4000 trials. CS IS, LOO coverage: 0.9245, 0.9280. CI IS, LOO coverage: 0.9120, 0.9120. 50454.3 s\n",
      "red, 384, 6. 4200 trials. CS IS, LOO coverage: 0.9250, 0.9281. CI IS, LOO coverage: 0.9121, 0.9121. 52959.1 s\n",
      "red, 384, 6. 4400 trials. CS IS, LOO coverage: 0.9243, 0.9273. CI IS, LOO coverage: 0.9120, 0.9120. 55440.3 s\n",
      "red, 384, 6. 4600 trials. CS IS, LOO coverage: 0.9239, 0.9267. CI IS, LOO coverage: 0.9115, 0.9115. 57936.7 s\n",
      "red, 384, 6. 4800 trials. CS IS, LOO coverage: 0.9237, 0.9260. CI IS, LOO coverage: 0.9113, 0.9110. 60434.8 s\n",
      "red, 384, 6. 5000 trials. CS IS, LOO coverage: 0.9234, 0.9252. CI IS, LOO coverage: 0.9110, 0.9106. 62910.1 s\n"
     ]
    }
   ],
   "source": [
    "reload(cal)\n",
    "reload(assay)\n",
    "order = 2\n",
    "alpha = 0.1\n",
    "# done v2: red 96 all, 192 all, 384 0, 2, 4, 6\n",
    "# done v3: red all 0\n",
    "n_trains = [384]\n",
    "ntrain2reg = {24: 10, 48: 10, 96: 10, 192: 1, 384: 1}\n",
    "n_seed = 5000\n",
    "lmbdas = [6]\n",
    "y_increment = 0.01\n",
    "ys = np.arange(0, 1.7, y_increment)\n",
    "\n",
    "for fitness_str in ['blue', 'red']:\n",
    "    \n",
    "    data = assay.PoelwijkData(fitness_str, order=order)\n",
    "    ptrain_fn = lambda x: (1.0 / data.n) * np.ones([x.shape[0]])\n",
    "    \n",
    "    for t, n_train in enumerate(n_trains):\n",
    "\n",
    "        reg = ntrain2reg[n_train]\n",
    "        covint = cal.ConformalRidgeCovariateIntervention(ptrain_fn, ys, data.X_nxp, reg)\n",
    "        covshift = cal.ConformalRidgeCovariateShift(ptrain_fn, ys, data.X_nxp, reg)\n",
    "\n",
    "        for l, lmbda in enumerate(lmbdas):\n",
    "\n",
    "            cslooset_s, csisset_s = [], []\n",
    "            cilooset_s, ciisset_s = [], []\n",
    "            ytest_s, predtest_s = np.zeros([n_seed]), np.zeros([n_seed])\n",
    "            csloocov_s, csiscov_s = np.zeros([n_seed]), np.zeros([n_seed])\n",
    "            ciloocov_s, ciiscov_s = np.zeros([n_seed]), np.zeros([n_seed])\n",
    "            t0 = time.time()\n",
    "\n",
    "            for seed in range(n_seed):\n",
    "                \n",
    "                Xtrain_nxp, ytrain_n, Xtest_1xp, ytest_1, pred_1 = cal.get_uniform_train_and_design_test(\n",
    "                    data, n_train, reg, lmbda, seed=seed)\n",
    "                ytest_s[seed] = ytest_1[0]\n",
    "                predtest_s[seed] = pred_1[0]\n",
    "\n",
    "                # get confidence set using covariate intervention\n",
    "                cilooset, ciisset = covint.get_confidence_set(\n",
    "                    Xtrain_nxp, ytrain_n, Xtest_1xp, lmbda, alpha=alpha, use_adaptive_score=False) \n",
    "                ciisset_s.append(ciisset)\n",
    "                ciiscov_s[seed] = cal.is_covered(ytest_s[seed], ciisset, y_increment)\n",
    "                cilooset_s.append(cilooset)\n",
    "                ciloocov_s[seed] = cal.is_covered(ytest_s[seed], cilooset, y_increment)\n",
    "\n",
    "                # get confidence set using covariate shift\n",
    "                cslooset, csisset = covshift.get_confidence_set(\n",
    "                    Xtrain_nxp, ytrain_n, Xtest_1xp, lmbda, alpha=alpha, use_adaptive_score=False) \n",
    "                csisset_s.append(csisset)\n",
    "                csiscov_s[seed] = cal.is_covered(ytest_s[seed], csisset, y_increment)\n",
    "                cslooset_s.append(cslooset)\n",
    "                csloocov_s[seed] = cal.is_covered(ytest_s[seed], cslooset, y_increment)\n",
    "\n",
    "                if (seed + 1) % 200 == 0:\n",
    "                    print(\"{}, {}, {}. {} trials. CS IS, LOO coverage: {:.4f}, {:.4f}. CI IS, LOO coverage: {:.4f}, {:.4f}. {:.1f} s\".format(\n",
    "                        fitness_str, n_train, lmbda, seed + 1,\n",
    "                        np.mean(csiscov_s[: seed + 1]), np.mean(csloocov_s[: seed + 1]),\n",
    "                        np.mean(ciiscov_s[: seed + 1]), np.mean(ciloocov_s[: seed + 1]), time.time() - t0))\n",
    "\n",
    "            np.savez('../results/113021/{}_n{}_lambda{}_alpha{}_gamma{}_2.npz'.format(\n",
    "                fitness_str, n_train, lmbda, alpha, reg),\n",
    "                     ytest_s=ytest_s, predtest_s=predtest_s,\n",
    "                     ciisset_s=ciisset_s, ciiscov_s=ciiscov_s, cilooset_s=cilooset_s, ciloocov_s=ciloocov_s,\n",
    "                     csisset_s=csisset_s, csiscov_s=csiscov_s, cslooset_s=cslooset_s, csloocov_s=csloocov_s, \n",
    "                    )"
   ]
  },
  {
   "cell_type": "markdown",
   "metadata": {},
   "source": [
    "## debugging"
   ]
  },
  {
   "cell_type": "code",
   "execution_count": 29,
   "metadata": {},
   "outputs": [
    {
     "name": "stdout",
     "output_type": "stream",
     "text": [
      "92 features\n",
      "Loading estimated SE precomputed with order 7 and significance level 0.01\n"
     ]
    },
    {
     "data": {
      "image/png": "[encoded data removed]",
      "text/plain": [
       "<Figure size 720x288 with 1 Axes>"
      ]
     },
     "metadata": {},
     "output_type": "display_data"
    }
   ],
   "source": [
    "seed = 0\n",
    "lmbda = 1e-14\n",
    "fitness_str = 'blue'\n",
    "order = 2\n",
    "n_train = 48\n",
    "np.random.seed(seed)\n",
    "model = Ridge(alpha=10, fit_intercept=True)\n",
    "\n",
    "data = assay.PoelwijkData(fitness_str, order=order)\n",
    "train_idx = np.random.choice(data.n, n_train, replace=False)\n",
    "Xtrain_nxp, ytrain_n = data.X_nxp[train_idx], data.y_n[train_idx]\n",
    "\n",
    "# train model (exclude intercept feature)\n",
    "model.fit(Xtrain_nxp[:, 1 :], ytrain_n)\n",
    "\n",
    "# construct test covariate distribution\n",
    "predall_n = model.predict(data.X_nxp[:, 1 :])\n",
    "punnorm_n = np.exp(lmbda * predall_n)\n",
    "Z = np.sum(punnorm_n)\n",
    "plt.figure(figsize=(10, 4));\n",
    "plt.hist(punnorm_n / Z, density=True);\n",
    "plt.axvline(1 / data.n, linestyle='--', color='orange');"
   ]
  },
  {
   "cell_type": "code",
   "execution_count": 23,
   "metadata": {},
   "outputs": [
    {
     "data": {
      "image/png": "[encoded data removed]",
      "text/plain": [
       "<Figure size 432x288 with 1 Axes>"
      ]
     },
     "metadata": {},
     "output_type": "display_data"
    }
   ],
   "source": [
    "A = cal.get_invcov_dot_xt(Xtrain_nxp, gamma=10)\n",
    "beta_p = A.dot(ytrain_n)\n",
    "predall2_n = data.X_nxp.dot(beta_p)\n",
    "plt.scatter(predall_n, predall2_n);\n",
    "util.plot_xy(predall_n, predall2_n)"
   ]
  },
  {
   "cell_type": "markdown",
   "metadata": {},
   "source": [
    "checking empirical samples from uniform distribution over Poelwijk data"
   ]
  },
  {
   "cell_type": "code",
   "execution_count": 17,
   "metadata": {},
   "outputs": [
    {
     "name": "stdout",
     "output_type": "stream",
     "text": [
      "92 features\n",
      "Loading estimated noise SE precomputed with order 7 and significance level 0.01\n"
     ]
    },
    {
     "data": {
      "image/png": "[encoded data removed]",
      "text/plain": [
       "<Figure size 432x288 with 1 Axes>"
      ]
     },
     "metadata": {},
     "output_type": "display_data"
    }
   ],
   "source": [
    "n_seed = 16000\n",
    "lmbda = 0\n",
    "data = assay.PoelwijkData(\"blue\", order=2)\n",
    "x2count = {tuple(x): 0 for x in data.X_nxp}\n",
    "\n",
    "for seed in range(n_seed):\n",
    "    Xtrain_nxp, ytrain_n, Xtest_1xp, ytest_1, pred_1 = cal.get_uniform_train_and_design_test(\n",
    "            data, n_train, reg, lmbda, seed=seed)\n",
    "    x2count[tuple(Xtest_1xp[0])] += 1.\n",
    "for x, count in x2count.items():\n",
    "    x2count[x] /= n_seed\n",
    "plt.hist(x2count.values());"
   ]
  },
  {
   "cell_type": "code",
   "execution_count": 30,
   "metadata": {},
   "outputs": [
    {
     "data": {
      "text/plain": [
       "(array([  16.,  164.,  579., 1605., 2216., 2151., 1047.,  340.,   69.,\n",
       "           5.]),\n",
       " array([9.450e-05, 1.003e-04, 1.061e-04, 1.119e-04, 1.177e-04, 1.235e-04,\n",
       "        1.293e-04, 1.351e-04, 1.409e-04, 1.467e-04, 1.525e-04]),\n",
       " <a list of 10 Patch objects>)"
      ]
     },
     "execution_count": 30,
     "metadata": {},
     "output_type": "execute_result"
    },
    {
     "data": {
      "image/png": "[encoded data removed]",
      "text/plain": [
       "<Figure size 432x288 with 1 Axes>"
      ]
     },
     "metadata": {},
     "output_type": "display_data"
    }
   ],
   "source": [
    "n_seed = 2000000\n",
    "test_idx = np.random.choice(data.n, size=n_seed, replace=True)\n",
    "x2countgt = {idx: np.where(test_idx == idx)[0].size / n_seed for idx in range(data.n)}\n",
    "plt.hist(x2countgt.values());"
   ]
  },
  {
   "cell_type": "code",
   "execution_count": 5,
   "metadata": {
    "scrolled": false
   },
   "outputs": [
    {
     "name": "stdout",
     "output_type": "stream",
     "text": [
      "92 features\n",
      "Loading estimated noise SE precomputed with order 7 and significance level 0.01\n"
     ]
    },
    {
     "ename": "KeyboardInterrupt",
     "evalue": "",
     "output_type": "error",
     "traceback": [
      "\u001b[0;31m---------------------------------------------------------------------------\u001b[0m",
      "\u001b[0;31mKeyboardInterrupt\u001b[0m                         Traceback (most recent call last)",
      "\u001b[0;32m<ipython-input-5-f3d013f7a79d>\u001b[0m in \u001b[0;36m<module>\u001b[0;34m\u001b[0m\n\u001b[1;32m     38\u001b[0m \u001b[0;34m\u001b[0m\u001b[0m\n\u001b[1;32m     39\u001b[0m     _, intset = confint.get_confidence_set(\n\u001b[0;32m---> 40\u001b[0;31m         Xtrain_nxp, ytrain_n, Xtest_1xp, lmbda, alpha=alpha, use_adaptive_score=False) \n\u001b[0m\u001b[1;32m     41\u001b[0m     \u001b[0mintcov_s\u001b[0m\u001b[0;34m[\u001b[0m\u001b[0mseed\u001b[0m\u001b[0;34m]\u001b[0m \u001b[0;34m=\u001b[0m \u001b[0mcal\u001b[0m\u001b[0;34m.\u001b[0m\u001b[0mis_covered\u001b[0m\u001b[0;34m(\u001b[0m\u001b[0mytest_1\u001b[0m\u001b[0;34m[\u001b[0m\u001b[0;36m0\u001b[0m\u001b[0;34m]\u001b[0m\u001b[0;34m,\u001b[0m \u001b[0mintset\u001b[0m\u001b[0;34m,\u001b[0m \u001b[0my_increment\u001b[0m\u001b[0;34m)\u001b[0m\u001b[0;34m\u001b[0m\u001b[0;34m\u001b[0m\u001b[0m\n\u001b[1;32m     42\u001b[0m \u001b[0;34m\u001b[0m\u001b[0m\n",
      "\u001b[0;32m~/waterslides/calibrating-design/calibrate.py\u001b[0m in \u001b[0;36mget_confidence_set\u001b[0;34m(self, Xtrain_nxp, ytrain_n, Xtest_1xp, lmbda, use_adaptive_score, alpha)\u001b[0m\n\u001b[1;32m    193\u001b[0m         \u001b[0;31m# compute LOO scores and likelihood ratios\u001b[0m\u001b[0;34m\u001b[0m\u001b[0;34m\u001b[0m\u001b[0;34m\u001b[0m\u001b[0m\n\u001b[1;32m    194\u001b[0m         scoresloo_n1xy, w_n1xy = self.get_loo_scores_and_lrs(\n\u001b[0;32m--> 195\u001b[0;31m             Xaug_n1xp, ytrain_n, lmbda, use_adaptive_score=use_adaptive_score)\n\u001b[0m\u001b[1;32m    196\u001b[0m \u001b[0;34m\u001b[0m\u001b[0m\n\u001b[1;32m    197\u001b[0m         \u001b[0;31m# ===== construct confidence sets =====\u001b[0m\u001b[0;34m\u001b[0m\u001b[0;34m\u001b[0m\u001b[0;34m\u001b[0m\u001b[0m\n",
      "\u001b[0;32m~/waterslides/calibrating-design/calibrate.py\u001b[0m in \u001b[0;36mget_loo_scores_and_lrs\u001b[0;34m(self, Xaug_n1xp, ytrain_n, lmbda, use_adaptive_score)\u001b[0m\n\u001b[1;32m    223\u001b[0m     \u001b[0;32mdef\u001b[0m \u001b[0mget_loo_scores_and_lrs\u001b[0m\u001b[0;34m(\u001b[0m\u001b[0mself\u001b[0m\u001b[0;34m,\u001b[0m \u001b[0mXaug_n1xp\u001b[0m\u001b[0;34m,\u001b[0m \u001b[0mytrain_n\u001b[0m\u001b[0;34m,\u001b[0m \u001b[0mlmbda\u001b[0m\u001b[0;34m,\u001b[0m \u001b[0muse_adaptive_score\u001b[0m\u001b[0;34m:\u001b[0m \u001b[0mbool\u001b[0m \u001b[0;34m=\u001b[0m \u001b[0;32mFalse\u001b[0m\u001b[0;34m)\u001b[0m\u001b[0;34m:\u001b[0m\u001b[0;34m\u001b[0m\u001b[0;34m\u001b[0m\u001b[0m\n\u001b[1;32m    224\u001b[0m         scoresloo_n1xy, w_n1xy = self.compute_loo_scores_and_lrs(\n\u001b[0;32m--> 225\u001b[0;31m             Xaug_n1xp, ytrain_n, lmbda, compute_lrs=True, use_adaptive_score=use_adaptive_score)\n\u001b[0m\u001b[1;32m    226\u001b[0m         \u001b[0;32mreturn\u001b[0m \u001b[0mscoresloo_n1xy\u001b[0m\u001b[0;34m,\u001b[0m \u001b[0mw_n1xy\u001b[0m\u001b[0;34m\u001b[0m\u001b[0;34m\u001b[0m\u001b[0m\n\u001b[1;32m    227\u001b[0m \u001b[0;34m\u001b[0m\u001b[0m\n",
      "\u001b[0;32m~/waterslides/calibrating-design/calibrate.py\u001b[0m in \u001b[0;36mcompute_loo_scores_and_lrs\u001b[0;34m(self, Xaug_n1xp, ytrain_n, lmbda, compute_lrs, use_adaptive_score)\u001b[0m\n\u001b[1;32m    163\u001b[0m             \u001b[0mbetaiy_nxpxy\u001b[0m \u001b[0;34m=\u001b[0m \u001b[0mC_nxp\u001b[0m\u001b[0;34m[\u001b[0m\u001b[0;34m:\u001b[0m\u001b[0;34m,\u001b[0m \u001b[0;34m:\u001b[0m\u001b[0;34m,\u001b[0m \u001b[0;32mNone\u001b[0m\u001b[0;34m]\u001b[0m \u001b[0;34m+\u001b[0m \u001b[0mself\u001b[0m\u001b[0;34m.\u001b[0m\u001b[0mys\u001b[0m \u001b[0;34m*\u001b[0m \u001b[0mAn_nxp\u001b[0m\u001b[0;34m[\u001b[0m\u001b[0;34m:\u001b[0m\u001b[0;34m,\u001b[0m \u001b[0;34m:\u001b[0m\u001b[0;34m,\u001b[0m \u001b[0;32mNone\u001b[0m\u001b[0;34m]\u001b[0m\u001b[0;34m\u001b[0m\u001b[0;34m\u001b[0m\u001b[0m\n\u001b[1;32m    164\u001b[0m             \u001b[0mpred_nxyxu\u001b[0m \u001b[0;34m=\u001b[0m \u001b[0mnp\u001b[0m\u001b[0;34m.\u001b[0m\u001b[0mtensordot\u001b[0m\u001b[0;34m(\u001b[0m\u001b[0mbetaiy_nxpxy\u001b[0m\u001b[0;34m,\u001b[0m \u001b[0mself\u001b[0m\u001b[0;34m.\u001b[0m\u001b[0mXuniv_uxp\u001b[0m\u001b[0;34m,\u001b[0m \u001b[0maxes\u001b[0m\u001b[0;34m=\u001b[0m\u001b[0;34m(\u001b[0m\u001b[0;36m1\u001b[0m\u001b[0;34m,\u001b[0m \u001b[0;36m1\u001b[0m\u001b[0;34m)\u001b[0m\u001b[0;34m)\u001b[0m\u001b[0;34m\u001b[0m\u001b[0;34m\u001b[0m\u001b[0m\n\u001b[0;32m--> 165\u001b[0;31m             \u001b[0mnormconst_nxy\u001b[0m \u001b[0;34m=\u001b[0m \u001b[0mnp\u001b[0m\u001b[0;34m.\u001b[0m\u001b[0msum\u001b[0m\u001b[0;34m(\u001b[0m\u001b[0mnp\u001b[0m\u001b[0;34m.\u001b[0m\u001b[0mexp\u001b[0m\u001b[0;34m(\u001b[0m\u001b[0mlmbda\u001b[0m \u001b[0;34m*\u001b[0m \u001b[0mpred_nxyxu\u001b[0m\u001b[0;34m)\u001b[0m\u001b[0;34m,\u001b[0m \u001b[0maxis\u001b[0m\u001b[0;34m=\u001b[0m\u001b[0;36m2\u001b[0m\u001b[0;34m)\u001b[0m\u001b[0;34m\u001b[0m\u001b[0;34m\u001b[0m\u001b[0m\n\u001b[0m\u001b[1;32m    166\u001b[0m             \u001b[0mptrain_n\u001b[0m \u001b[0;34m=\u001b[0m \u001b[0mself\u001b[0m\u001b[0;34m.\u001b[0m\u001b[0mptrain_fn\u001b[0m\u001b[0;34m(\u001b[0m\u001b[0mXaug_n1xp\u001b[0m\u001b[0;34m[\u001b[0m\u001b[0;34m:\u001b[0m \u001b[0;34m-\u001b[0m\u001b[0;36m1\u001b[0m\u001b[0;34m]\u001b[0m\u001b[0;34m)\u001b[0m\u001b[0;34m\u001b[0m\u001b[0;34m\u001b[0m\u001b[0m\n\u001b[1;32m    167\u001b[0m \u001b[0;34m\u001b[0m\u001b[0m\n",
      "\u001b[0;31mKeyboardInterrupt\u001b[0m: "
     ]
    }
   ],
   "source": [
    "# comparing naive, shift, intervention on uniform test data\n",
    "reload(cal)\n",
    "reload(assay)\n",
    "order = 2\n",
    "alpha = 0.1\n",
    "n_train = 96\n",
    "reg = 10\n",
    "n_seed = 10000\n",
    "lmbda =  0\n",
    "y_increment = 0.01\n",
    "ys = np.arange(0, 1.7, y_increment)\n",
    "fitness_str = 'blue'\n",
    "data = assay.PoelwijkData(fitness_str, order=order)\n",
    "ptrain_fn = lambda x: (1.0 / data.n) * np.ones([x.shape[0]])\n",
    "\n",
    "confnaive = cal.ConformalRidgeNaive(ptrain_fn, ys, data.X_nxp, reg)\n",
    "# confshift = cal.ConformalRidgeCovariateShift(ptrain_fn, ys, data.X_nxp, reg)\n",
    "confint = cal.ConformalRidgeCovariateIntervention(ptrain_fn, ys, data.X_nxp, reg)\n",
    "naivecov_s, shiftcov_s, intcov_s = np.zeros([n_seed]), np.zeros([n_seed]), np.zeros([n_seed])\n",
    "t0 = time.time()\n",
    "\n",
    "for seed in range(n_seed):\n",
    "    \n",
    "#     train_idx = np.random.choice(data.n, n_train, replace=True)\n",
    "#     test_idx = np.random.choice(data.n, 1, replace=True)\n",
    "#     Xtrain_nxp, ytrain_n = data.X_nxp[train_idx], data.get_measurements(train_idx)\n",
    "#     Xtest_1xp, ytest_1 = data.X_nxp[test_idx], data.get_measurements(test_idx)\n",
    "    Xtrain_nxp, ytrain_n, Xtest_1xp, ytest_1, pred_1 = cal.get_uniform_train_and_design_test(\n",
    "    data, n_train, reg, lmbda, seed=seed)\n",
    "\n",
    "#     naiveset, _ = confnaive.get_confidence_set(\n",
    "#         Xtrain_nxp, ytrain_n, Xtest_1xp, lmbda, alpha=alpha, use_adaptive_score=False) \n",
    "#     naivecov_s[seed] = cal.is_covered(ytest_1[0], naiveset, y_increment)\n",
    "    \n",
    "#     _, shiftset = confshift.get_confidence_set(\n",
    "#         Xtrain_nxp, ytrain_n, Xtest_1xp, lmbda, alpha=alpha, use_adaptive_score=False) \n",
    "#     shiftcov_s[seed] = cal.is_covered(ytest_1[0], shiftset, y_increment)\n",
    "    \n",
    "    _, intset = confint.get_confidence_set(\n",
    "        Xtrain_nxp, ytrain_n, Xtest_1xp, lmbda, alpha=alpha, use_adaptive_score=False) \n",
    "    intcov_s[seed] = cal.is_covered(ytest_1[0], intset, y_increment)\n",
    "\n",
    "    if (seed + 1) % 100 == 0:\n",
    "        print(\"{}, {}, {}. {} trials. naive, shift, intervention coverage: {:.4f}, {:.4f}, {:.4f}. {:.1f} s\".format(\n",
    "            fitness_str, n_train, lmbda, seed + 1,\n",
    "            np.mean(naivecov_s[: seed + 1]), np.mean(shiftcov_s[: seed + 1]), np.mean(intcov_s[: seed + 1]),\n",
    "            time.time() - t0))"
   ]
  },
  {
   "cell_type": "code",
   "execution_count": 23,
   "metadata": {},
   "outputs": [
    {
     "name": "stdout",
     "output_type": "stream",
     "text": [
      "92 features\n",
      "Loading estimated noise SE precomputed with order 7 and significance level 0.01\n",
      "blue, 96, 0. 10 trials. naive 0.8000. 137.9 s\n",
      "blue, 96, 0. 20 trials. naive 0.8500. 271.8 s\n",
      "blue, 96, 0. 30 trials. naive 0.9000. 406.0 s\n",
      "blue, 96, 0. 40 trials. naive 0.9250. 537.6 s\n",
      "blue, 96, 0. 50 trials. naive 0.9000. 670.5 s\n",
      "blue, 96, 0. 60 trials. naive 0.9000. 807.5 s\n",
      "blue, 96, 0. 70 trials. naive 0.8857. 940.4 s\n",
      "blue, 96, 0. 80 trials. naive 0.8875. 1076.0 s\n",
      "blue, 96, 0. 90 trials. naive 0.9000. 1210.7 s\n",
      "blue, 96, 0. 100 trials. naive 0.9000. 1347.4 s\n",
      "blue, 96, 0. 110 trials. naive 0.9091. 1479.3 s\n",
      "blue, 96, 0. 120 trials. naive 0.9000. 1616.0 s\n",
      "blue, 96, 0. 130 trials. naive 0.8923. 1749.1 s\n",
      "blue, 96, 0. 140 trials. naive 0.9000. 1885.9 s\n",
      "blue, 96, 0. 150 trials. naive 0.9067. 2021.1 s\n",
      "blue, 96, 0. 160 trials. naive 0.9125. 2155.8 s\n",
      "blue, 96, 0. 170 trials. naive 0.9118. 2294.8 s\n",
      "blue, 96, 0. 180 trials. naive 0.9167. 2426.8 s\n",
      "blue, 96, 0. 190 trials. naive 0.9158. 2556.4 s\n",
      "blue, 96, 0. 200 trials. naive 0.9200. 2695.6 s\n",
      "blue, 96, 0. 210 trials. naive 0.9190. 2833.0 s\n",
      "blue, 96, 0. 220 trials. naive 0.9136. 2967.1 s\n",
      "blue, 96, 0. 230 trials. naive 0.9174. 3102.1 s\n",
      "blue, 96, 0. 240 trials. naive 0.9167. 3237.6 s\n"
     ]
    },
    {
     "ename": "KeyboardInterrupt",
     "evalue": "",
     "output_type": "error",
     "traceback": [
      "\u001b[0;31m---------------------------------------------------------------------------\u001b[0m",
      "\u001b[0;31mKeyboardInterrupt\u001b[0m                         Traceback (most recent call last)",
      "\u001b[0;32m<ipython-input-23-a96c1e4504b0>\u001b[0m in \u001b[0;36m<module>\u001b[0;34m\u001b[0m\n\u001b[1;32m     27\u001b[0m         \u001b[0mXtrain_nxp\u001b[0m\u001b[0;34m[\u001b[0m\u001b[0;34m:\u001b[0m\u001b[0;34m,\u001b[0m \u001b[0;36m1\u001b[0m \u001b[0;34m:\u001b[0m\u001b[0;34m]\u001b[0m\u001b[0;34m,\u001b[0m \u001b[0mytrain_n\u001b[0m\u001b[0;34m,\u001b[0m \u001b[0mXtest_1xp\u001b[0m\u001b[0;34m[\u001b[0m\u001b[0;34m:\u001b[0m\u001b[0;34m,\u001b[0m \u001b[0;36m1\u001b[0m \u001b[0;34m:\u001b[0m\u001b[0;34m]\u001b[0m\u001b[0;34m,\u001b[0m \u001b[0mlmbda\u001b[0m\u001b[0;34m,\u001b[0m \u001b[0malpha\u001b[0m\u001b[0;34m=\u001b[0m\u001b[0malpha\u001b[0m\u001b[0;34m,\u001b[0m \u001b[0muse_loo_score\u001b[0m\u001b[0;34m=\u001b[0m\u001b[0;32mTrue\u001b[0m\u001b[0;34m,\u001b[0m\u001b[0;34m\u001b[0m\u001b[0;34m\u001b[0m\u001b[0m\n\u001b[1;32m     28\u001b[0m         \u001b[0mprint_every\u001b[0m\u001b[0;34m=\u001b[0m\u001b[0;36m80\u001b[0m\u001b[0;34m,\u001b[0m \u001b[0mverbose\u001b[0m\u001b[0;34m=\u001b[0m\u001b[0;32mFalse\u001b[0m\u001b[0;34m,\u001b[0m\u001b[0;34m\u001b[0m\u001b[0;34m\u001b[0m\u001b[0m\n\u001b[0;32m---> 29\u001b[0;31m         use_adaptive_score=False) \n\u001b[0m\u001b[1;32m     30\u001b[0m     \u001b[0mnaivecov_s\u001b[0m\u001b[0;34m[\u001b[0m\u001b[0mseed\u001b[0m\u001b[0;34m]\u001b[0m \u001b[0;34m=\u001b[0m \u001b[0mcal\u001b[0m\u001b[0;34m.\u001b[0m\u001b[0mis_covered\u001b[0m\u001b[0;34m(\u001b[0m\u001b[0mytest_1\u001b[0m\u001b[0;34m[\u001b[0m\u001b[0;36m0\u001b[0m\u001b[0;34m]\u001b[0m\u001b[0;34m,\u001b[0m \u001b[0mnaiveset\u001b[0m\u001b[0;34m,\u001b[0m \u001b[0my_increment\u001b[0m\u001b[0;34m)\u001b[0m\u001b[0;34m\u001b[0m\u001b[0;34m\u001b[0m\u001b[0m\n\u001b[1;32m     31\u001b[0m \u001b[0;34m\u001b[0m\u001b[0m\n",
      "\u001b[0;32m~/waterslides/calibrating-design/calibrate.py\u001b[0m in \u001b[0;36mget_confidence_set\u001b[0;34m(self, Xtrain_nxp, ytrain_n, Xtest_1xp, lmbda, use_loo_score, use_adaptive_score, alpha, print_every, verbose)\u001b[0m\n\u001b[1;32m    316\u001b[0m             \u001b[0myaug_n1\u001b[0m \u001b[0;34m=\u001b[0m \u001b[0mnp\u001b[0m\u001b[0;34m.\u001b[0m\u001b[0mhstack\u001b[0m\u001b[0;34m(\u001b[0m\u001b[0;34m[\u001b[0m\u001b[0mytrain_n\u001b[0m\u001b[0;34m,\u001b[0m \u001b[0my\u001b[0m\u001b[0;34m]\u001b[0m\u001b[0;34m)\u001b[0m\u001b[0;34m\u001b[0m\u001b[0;34m\u001b[0m\u001b[0m\n\u001b[1;32m    317\u001b[0m             scores_n1 = get_scores(self.model, Xaug_n1xp, yaug_n1,\n\u001b[0;32m--> 318\u001b[0;31m                                    use_loo_score=use_loo_score, use_adaptive_score=use_adaptive_score)\n\u001b[0m\u001b[1;32m    319\u001b[0m             \u001b[0mscores_n1xy\u001b[0m\u001b[0;34m[\u001b[0m\u001b[0;34m:\u001b[0m\u001b[0;34m,\u001b[0m \u001b[0my_idx\u001b[0m\u001b[0;34m]\u001b[0m \u001b[0;34m=\u001b[0m \u001b[0mscores_n1\u001b[0m\u001b[0;34m\u001b[0m\u001b[0;34m\u001b[0m\u001b[0m\n\u001b[1;32m    320\u001b[0m \u001b[0;34m\u001b[0m\u001b[0m\n",
      "\u001b[0;32m~/waterslides/calibrating-design/calibrate.py\u001b[0m in \u001b[0;36mget_scores\u001b[0;34m(model, Xaug_nxp, yaug_n, use_loo_score, use_adaptive_score)\u001b[0m\n\u001b[1;32m    270\u001b[0m \u001b[0;34m\u001b[0m\u001b[0m\n\u001b[1;32m    271\u001b[0m             \u001b[0;31m# train on LOO dataset\u001b[0m\u001b[0;34m\u001b[0m\u001b[0;34m\u001b[0m\u001b[0;34m\u001b[0m\u001b[0m\n\u001b[0;32m--> 272\u001b[0;31m             \u001b[0mmodel\u001b[0m\u001b[0;34m.\u001b[0m\u001b[0mfit\u001b[0m\u001b[0;34m(\u001b[0m\u001b[0mXtrain_nxp\u001b[0m\u001b[0;34m,\u001b[0m \u001b[0mytrain_n\u001b[0m\u001b[0;34m)\u001b[0m\u001b[0;34m\u001b[0m\u001b[0;34m\u001b[0m\u001b[0m\n\u001b[0m\u001b[1;32m    273\u001b[0m             \u001b[0mpred_1\u001b[0m \u001b[0;34m=\u001b[0m \u001b[0mmodel\u001b[0m\u001b[0;34m.\u001b[0m\u001b[0mpredict\u001b[0m\u001b[0;34m(\u001b[0m\u001b[0mXaug_nxp\u001b[0m\u001b[0;34m[\u001b[0m\u001b[0mi\u001b[0m\u001b[0;34m]\u001b[0m\u001b[0;34m[\u001b[0m\u001b[0;32mNone\u001b[0m\u001b[0;34m,\u001b[0m \u001b[0;34m:\u001b[0m\u001b[0;34m]\u001b[0m\u001b[0;34m)\u001b[0m\u001b[0;34m\u001b[0m\u001b[0;34m\u001b[0m\u001b[0m\n\u001b[1;32m    274\u001b[0m             \u001b[0mscores_n1\u001b[0m\u001b[0;34m[\u001b[0m\u001b[0mi\u001b[0m\u001b[0;34m]\u001b[0m \u001b[0;34m=\u001b[0m \u001b[0mnp\u001b[0m\u001b[0;34m.\u001b[0m\u001b[0mabs\u001b[0m\u001b[0;34m(\u001b[0m\u001b[0myaug_n\u001b[0m\u001b[0;34m[\u001b[0m\u001b[0mi\u001b[0m\u001b[0;34m]\u001b[0m \u001b[0;34m-\u001b[0m \u001b[0mpred_1\u001b[0m\u001b[0;34m[\u001b[0m\u001b[0;36m0\u001b[0m\u001b[0;34m]\u001b[0m\u001b[0;34m)\u001b[0m\u001b[0;34m\u001b[0m\u001b[0;34m\u001b[0m\u001b[0m\n",
      "\u001b[0;32m~/anaconda3/envs/tf-gpu/lib/python3.7/site-packages/sklearn/linear_model/ridge.py\u001b[0m in \u001b[0;36mfit\u001b[0;34m(self, X, y, sample_weight)\u001b[0m\n\u001b[1;32m    745\u001b[0m         \u001b[0mself\u001b[0m \u001b[0;34m:\u001b[0m \u001b[0mreturns\u001b[0m \u001b[0man\u001b[0m \u001b[0minstance\u001b[0m \u001b[0mof\u001b[0m \u001b[0mself\u001b[0m\u001b[0;34m.\u001b[0m\u001b[0;34m\u001b[0m\u001b[0;34m\u001b[0m\u001b[0m\n\u001b[1;32m    746\u001b[0m         \"\"\"\n\u001b[0;32m--> 747\u001b[0;31m         \u001b[0;32mreturn\u001b[0m \u001b[0msuper\u001b[0m\u001b[0;34m(\u001b[0m\u001b[0;34m)\u001b[0m\u001b[0;34m.\u001b[0m\u001b[0mfit\u001b[0m\u001b[0;34m(\u001b[0m\u001b[0mX\u001b[0m\u001b[0;34m,\u001b[0m \u001b[0my\u001b[0m\u001b[0;34m,\u001b[0m \u001b[0msample_weight\u001b[0m\u001b[0;34m=\u001b[0m\u001b[0msample_weight\u001b[0m\u001b[0;34m)\u001b[0m\u001b[0;34m\u001b[0m\u001b[0;34m\u001b[0m\u001b[0m\n\u001b[0m\u001b[1;32m    748\u001b[0m \u001b[0;34m\u001b[0m\u001b[0m\n\u001b[1;32m    749\u001b[0m \u001b[0;34m\u001b[0m\u001b[0m\n",
      "\u001b[0;32m~/anaconda3/envs/tf-gpu/lib/python3.7/site-packages/sklearn/linear_model/ridge.py\u001b[0m in \u001b[0;36mfit\u001b[0;34m(self, X, y, sample_weight)\u001b[0m\n\u001b[1;32m    578\u001b[0m                 \u001b[0mmax_iter\u001b[0m\u001b[0;34m=\u001b[0m\u001b[0mself\u001b[0m\u001b[0;34m.\u001b[0m\u001b[0mmax_iter\u001b[0m\u001b[0;34m,\u001b[0m \u001b[0mtol\u001b[0m\u001b[0;34m=\u001b[0m\u001b[0mself\u001b[0m\u001b[0;34m.\u001b[0m\u001b[0mtol\u001b[0m\u001b[0;34m,\u001b[0m \u001b[0msolver\u001b[0m\u001b[0;34m=\u001b[0m\u001b[0mself\u001b[0m\u001b[0;34m.\u001b[0m\u001b[0msolver\u001b[0m\u001b[0;34m,\u001b[0m\u001b[0;34m\u001b[0m\u001b[0;34m\u001b[0m\u001b[0m\n\u001b[1;32m    579\u001b[0m                 \u001b[0mrandom_state\u001b[0m\u001b[0;34m=\u001b[0m\u001b[0mself\u001b[0m\u001b[0;34m.\u001b[0m\u001b[0mrandom_state\u001b[0m\u001b[0;34m,\u001b[0m \u001b[0mreturn_n_iter\u001b[0m\u001b[0;34m=\u001b[0m\u001b[0;32mTrue\u001b[0m\u001b[0;34m,\u001b[0m\u001b[0;34m\u001b[0m\u001b[0;34m\u001b[0m\u001b[0m\n\u001b[0;32m--> 580\u001b[0;31m                 return_intercept=False, check_input=False, **params)\n\u001b[0m\u001b[1;32m    581\u001b[0m             \u001b[0mself\u001b[0m\u001b[0;34m.\u001b[0m\u001b[0m_set_intercept\u001b[0m\u001b[0;34m(\u001b[0m\u001b[0mX_offset\u001b[0m\u001b[0;34m,\u001b[0m \u001b[0my_offset\u001b[0m\u001b[0;34m,\u001b[0m \u001b[0mX_scale\u001b[0m\u001b[0;34m)\u001b[0m\u001b[0;34m\u001b[0m\u001b[0;34m\u001b[0m\u001b[0m\n\u001b[1;32m    582\u001b[0m \u001b[0;34m\u001b[0m\u001b[0m\n",
      "\u001b[0;32m~/anaconda3/envs/tf-gpu/lib/python3.7/site-packages/sklearn/linear_model/ridge.py\u001b[0m in \u001b[0;36m_ridge_regression\u001b[0;34m(X, y, alpha, sample_weight, solver, max_iter, tol, verbose, random_state, return_n_iter, return_intercept, X_scale, X_offset, check_input)\u001b[0m\n\u001b[1;32m    410\u001b[0m                         order=\"C\")\n\u001b[1;32m    411\u001b[0m         \u001b[0my\u001b[0m \u001b[0;34m=\u001b[0m \u001b[0mcheck_array\u001b[0m\u001b[0;34m(\u001b[0m\u001b[0my\u001b[0m\u001b[0;34m,\u001b[0m \u001b[0mdtype\u001b[0m\u001b[0;34m=\u001b[0m\u001b[0mX\u001b[0m\u001b[0;34m.\u001b[0m\u001b[0mdtype\u001b[0m\u001b[0;34m,\u001b[0m \u001b[0mensure_2d\u001b[0m\u001b[0;34m=\u001b[0m\u001b[0;32mFalse\u001b[0m\u001b[0;34m,\u001b[0m \u001b[0morder\u001b[0m\u001b[0;34m=\u001b[0m\u001b[0;34m\"C\"\u001b[0m\u001b[0;34m)\u001b[0m\u001b[0;34m\u001b[0m\u001b[0;34m\u001b[0m\u001b[0m\n\u001b[0;32m--> 412\u001b[0;31m     \u001b[0mcheck_consistent_length\u001b[0m\u001b[0;34m(\u001b[0m\u001b[0mX\u001b[0m\u001b[0;34m,\u001b[0m \u001b[0my\u001b[0m\u001b[0;34m)\u001b[0m\u001b[0;34m\u001b[0m\u001b[0;34m\u001b[0m\u001b[0m\n\u001b[0m\u001b[1;32m    413\u001b[0m \u001b[0;34m\u001b[0m\u001b[0m\n\u001b[1;32m    414\u001b[0m     \u001b[0mn_samples\u001b[0m\u001b[0;34m,\u001b[0m \u001b[0mn_features\u001b[0m \u001b[0;34m=\u001b[0m \u001b[0mX\u001b[0m\u001b[0;34m.\u001b[0m\u001b[0mshape\u001b[0m\u001b[0;34m\u001b[0m\u001b[0;34m\u001b[0m\u001b[0m\n",
      "\u001b[0;32m~/anaconda3/envs/tf-gpu/lib/python3.7/site-packages/sklearn/utils/validation.py\u001b[0m in \u001b[0;36mcheck_consistent_length\u001b[0;34m(*arrays)\u001b[0m\n\u001b[1;32m    200\u001b[0m \u001b[0;34m\u001b[0m\u001b[0m\n\u001b[1;32m    201\u001b[0m     \u001b[0mlengths\u001b[0m \u001b[0;34m=\u001b[0m \u001b[0;34m[\u001b[0m\u001b[0m_num_samples\u001b[0m\u001b[0;34m(\u001b[0m\u001b[0mX\u001b[0m\u001b[0;34m)\u001b[0m \u001b[0;32mfor\u001b[0m \u001b[0mX\u001b[0m \u001b[0;32min\u001b[0m \u001b[0marrays\u001b[0m \u001b[0;32mif\u001b[0m \u001b[0mX\u001b[0m \u001b[0;32mis\u001b[0m \u001b[0;32mnot\u001b[0m \u001b[0;32mNone\u001b[0m\u001b[0;34m]\u001b[0m\u001b[0;34m\u001b[0m\u001b[0;34m\u001b[0m\u001b[0m\n\u001b[0;32m--> 202\u001b[0;31m     \u001b[0muniques\u001b[0m \u001b[0;34m=\u001b[0m \u001b[0mnp\u001b[0m\u001b[0;34m.\u001b[0m\u001b[0munique\u001b[0m\u001b[0;34m(\u001b[0m\u001b[0mlengths\u001b[0m\u001b[0;34m)\u001b[0m\u001b[0;34m\u001b[0m\u001b[0;34m\u001b[0m\u001b[0m\n\u001b[0m\u001b[1;32m    203\u001b[0m     \u001b[0;32mif\u001b[0m \u001b[0mlen\u001b[0m\u001b[0;34m(\u001b[0m\u001b[0muniques\u001b[0m\u001b[0;34m)\u001b[0m \u001b[0;34m>\u001b[0m \u001b[0;36m1\u001b[0m\u001b[0;34m:\u001b[0m\u001b[0;34m\u001b[0m\u001b[0;34m\u001b[0m\u001b[0m\n\u001b[1;32m    204\u001b[0m         raise ValueError(\"Found input variables with inconsistent numbers of\"\n",
      "\u001b[0;32m<__array_function__ internals>\u001b[0m in \u001b[0;36munique\u001b[0;34m(*args, **kwargs)\u001b[0m\n",
      "\u001b[0;31mKeyboardInterrupt\u001b[0m: "
     ]
    }
   ],
   "source": [
    "# comparing naive, shift, intervention on uniform test data\n",
    "reload(cal)\n",
    "reload(assay)\n",
    "order = 2\n",
    "alpha = 0.1\n",
    "n_train = 96\n",
    "reg = 10\n",
    "n_seed = 10000\n",
    "lmbda =  0\n",
    "y_increment = 0.01\n",
    "ys = np.arange(0, 1.7, y_increment)\n",
    "fitness_str = 'blue'\n",
    "data = assay.PoelwijkData(fitness_str, order=order)\n",
    "ptrain_fn = lambda x: (1.0 / data.n) * np.ones([x.shape[0]])\n",
    "\n",
    "model = Ridge(alpha=reg, fit_intercept=True)\n",
    "confnaive = cal.ConformalNaive(model, ptrain_fn, ys, data.X_nxp[:, 1 :])\n",
    "naivecov_s, shiftcov_s, intcov_s = np.zeros([n_seed]), np.zeros([n_seed]), np.zeros([n_seed])\n",
    "t0 = time.time()\n",
    "\n",
    "for seed in range(n_seed):\n",
    "\n",
    "    Xtrain_nxp, ytrain_n, Xtest_1xp, ytest_1, pred_1 = cal.get_uniform_train_and_design_test(\n",
    "        data, n_train, reg, lmbda, seed=seed)\n",
    "\n",
    "    naiveset, _, _ = confnaive.get_confidence_set(\n",
    "        Xtrain_nxp[:, 1 :], ytrain_n, Xtest_1xp[:, 1 :], lmbda, alpha=alpha, use_loo_score=True,\n",
    "        print_every=80, verbose=False,\n",
    "        use_adaptive_score=False) \n",
    "    naivecov_s[seed] = cal.is_covered(ytest_1[0], naiveset, y_increment)\n",
    "    \n",
    "    if (seed + 1) % 10 == 0:\n",
    "        print(\"{}, {}, {}. {} trials. naive {:.4f}. {:.1f} s\".format(\n",
    "            fitness_str, n_train, lmbda, seed + 1, np.mean(naivecov_s[: seed + 1]), time.time() - t0))"
   ]
  },
  {
   "cell_type": "code",
   "execution_count": 12,
   "metadata": {},
   "outputs": [
    {
     "name": "stdout",
     "output_type": "stream",
     "text": [
      "92 features\n",
      "Loading estimated noise SE precomputed with order 7 and significance level 0.01\n",
      "0 [1.40621265] [1.39316181] True\n",
      "1 [0.28010473] [0.44637736] True\n",
      "2 [0.2825834] [0.50753413] True\n",
      "3 [1.38458664] [1.339484] True\n",
      "4 [1.32894699] [0.8863157] True\n",
      "5 [1.47596702] [0.993887] True\n",
      "6 [1.23004767] [0.84374503] True\n",
      "7 [1.35351874] [1.23898536] True\n",
      "8 [0.5004279] [0.70796092] True\n",
      "9 [0.20999028] [0.25264717] True\n",
      "10 [0.2170059] [0.32326771] True\n",
      "11 [0.26514002] [0.26904248] True\n",
      "12 [0.28445091] [0.25656766] True\n",
      "13 [0.32929453] [0.44179981] True\n",
      "14 [0.32447145] [0.28521148] True\n",
      "15 [0.66414235] [1.22182991] True\n",
      "16 [0.25544768] [0.3700104] True\n",
      "17 [0.87636342] [0.89294932] True\n",
      "18 [1.31818795] [1.15242884] True\n",
      "19 [1.49738717] [1.48965024] True\n",
      "20 [0.23626218] [0.6617397] True\n",
      "21 [1.42441082] [1.13794754] True\n",
      "22 [0.20776025] [0.30840542] True\n",
      "23 [1.41997168] [0.98595294] True\n",
      "24 [0.95930174] [1.27874731] True\n",
      "25 [1.35537194] [1.01819375] True\n",
      "26 [0.25765805] [0.34078806] True\n",
      "27 [1.35899393] [0.69596203] True\n",
      "28 [1.56680424] [1.26724842] True\n",
      "29 [0.26000242] [0.45077136] True\n",
      "30 [0.21901477] [0.35636869] True\n",
      "31 [0.65787107] [0.694344] True\n",
      "32 [1.57652113] [1.21022577] True\n",
      "33 [1.33201262] [0.89811972] True\n",
      "34 [0.28858233] [0.41077875] True\n",
      "35 [0.31489083] [0.32158294] True\n",
      "36 [0.81171019] [0.81313564] True\n",
      "37 [1.35140137] [1.06260834] True\n",
      "38 [1.45910844] [1.56237621] True\n",
      "39 [0.17434602] [0.53078729] True\n",
      "40 [1.35153144] [1.26140962] True\n",
      "41 [1.15908079] [0.9033639] True\n",
      "42 [0.74219243] [0.57895982] True\n",
      "43 [1.41255402] [1.1046469] True\n",
      "44 [0.42543821] [1.16295897] True\n",
      "45 [0.70175055] [0.93367527] True\n",
      "46 [0.70500028] [0.68524937] True\n",
      "47 [1.34156783] [1.30243297] True\n",
      "48 [1.39665354] [1.03605472] True\n",
      "49 [0.28702542] [0.29623194] True\n",
      "50 [1.10135364] [0.96613982] True\n",
      "51 [1.53378889] [1.57199191] True\n",
      "52 [1.34971838] [1.09362276] True\n",
      "53 [1.41284163] [1.09187672] True\n",
      "54 [1.36543773] [1.14254253] True\n",
      "55 [1.31887747] [1.24469258] True\n",
      "56 [0.6707938] [0.84291633] True\n",
      "57 [1.49145738] [0.9744592] True\n",
      "58 [0.25662533] [0.27448473] True\n",
      "59 [0.60340145] [0.77177531] True\n",
      "60 [1.24590815] [1.36687946] True\n",
      "61 [1.44137155] [0.99191305] True\n",
      "62 [0.53243547] [0.53720086] True\n",
      "63 [1.43802342] [0.98503231] True\n",
      "64 [0.32674852] [0.12914524] True\n",
      "65 [0.18765597] [0.29536258] True\n",
      "66 [0.22487044] [0.05610416] True\n",
      "67 [0.22409193] [0.1725816] True\n",
      "68 [0.34294021] [0.73589392] True\n",
      "69 [0.25845434] [0.51219288] True\n",
      "70 [1.40131327] [0.86035769] True\n",
      "71 [1.40838441] [1.03524348] True\n",
      "72 [1.35804971] [1.11378379] True\n",
      "73 [0.29477233] [0.26253268] True\n",
      "74 [1.34060201] [1.36976554] True\n",
      "75 [0.64952116] [1.10460366] True\n",
      "76 [0.20419113] [0.55702161] True\n",
      "77 [0.27757943] [0.12564653] True\n",
      "78 [0.6436123] [0.61368746] True\n",
      "79 [0.20549616] [0.28576305] True\n",
      "80 [1.36011793] [1.05072469] True\n",
      "81 [1.446539] [1.30156474] True\n",
      "82 [1.37885637] [1.27609514] True\n",
      "83 [1.41001149] [1.24285298] True\n",
      "84 [1.59478895] [0.83267735] True\n",
      "85 [0.66242809] [0.78229241] True\n",
      "86 [0.71041358] [0.74759778] True\n",
      "87 [1.21671644] [1.02951972] True\n",
      "88 [1.32237487] [1.0219746] True\n",
      "89 [0.53363473] [0.75998129] True\n",
      "90 [1.54335102] [1.11389969] True\n",
      "91 [0.47863436] [0.49885717] True\n",
      "92 [1.36252961] [0.89151249] True\n",
      "93 [1.3615601] [0.76037257] True\n",
      "94 [1.22541528] [1.00381388] True\n",
      "95 [0.49530986] [0.74636576] True\n",
      "96 [0.88082623] [0.7429509] True\n",
      "97 [0.1765709] [0.45753988] True\n",
      "98 [1.25582158] [1.37658494] True\n",
      "99 [1.59489957] [1.20941796] True\n"
     ]
    }
   ],
   "source": [
    "# weird bug where set doesn't include point prediction\n",
    "fitness_str = 'blue'\n",
    "order = 2\n",
    "n_train = 96\n",
    "reg = 10\n",
    "lmbda = 2\n",
    "y_increment = 0.01\n",
    "ys = np.arange(0, 1.7, y_increment)\n",
    "n_seed = 100\n",
    "\n",
    "data = assay.PoelwijkData(fitness_str, order=order)\n",
    "ptrain_fn = lambda x: (1.0 / data.n) * np.ones([x.shape[0]])\n",
    "\n",
    "for seed in range(n_seed):\n",
    "\n",
    "    covint = cal.ConformalRidgeCovariateIntervention(ptrain_fn, ys, data.X_nxp, reg)\n",
    "    Xtrain_nxp, ytrain_n, Xtest_1xp, ytest_1, pred_1 = cal.get_uniform_train_and_design_test(\n",
    "        data, n_train, reg, lmbda, seed=seed)\n",
    "\n",
    "    # get confidence set using covariate intervention\n",
    "    cilooset, ciisset = covint.get_confidence_set(\n",
    "        Xtrain_nxp, ytrain_n, Xtest_1xp, lmbda, alpha=alpha, use_adaptive_score=False)\n",
    "\n",
    "    print(seed, ytest_1, pred_1, cal.is_covered(pred_1[0], cilooset, y_increment))"
   ]
  }
 ],
 "metadata": {
  "kernelspec": {
   "display_name": "TensorFlow-GPU-2.1.0",
   "language": "python",
   "name": "tf-gpu"
  },
  "language_info": {
   "codemirror_mode": {
    "name": "ipython",
    "version": 3
   },
   "file_extension": ".py",
   "mimetype": "text/x-python",
   "name": "python",
   "nbconvert_exporter": "python",
   "pygments_lexer": "ipython3",
   "version": "3.7.7"
  }
 },
 "nbformat": 4,
 "nbformat_minor": 4
}
